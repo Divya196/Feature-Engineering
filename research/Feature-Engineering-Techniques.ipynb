{
 "cells": [
  {
   "cell_type": "markdown",
   "metadata": {},
   "source": []
  },
  {
   "cell_type": "markdown",
   "metadata": {},
   "source": [
    "TYPES OF ENCODING\n",
    "\n",
    "1 .Nominal-  Onehot encoding, onehot encoding with many categorical , mean encoding\n",
    "\n",
    "2 . Ordinal - Label encoding, target guided ordinal encoding"
   ]
  },
  {
   "cell_type": "markdown",
   "metadata": {},
   "source": [
    "\n",
    "1)Disadvantage of Onehot Encoding - when many number of categories,it leads to curse of dimensionality.\n",
    "\n",
    "2)Onehot encoding with many category -- > Find most number of repeated categories ie)Top_10.\n",
    "\n",
    "\n",
    "2)Label encoding -- > Alot higher value for highest priority.\n",
    "\n",
    "4)Target Guided Ordinal Category -- > Finding mean of outputs with respect to each category in a feature,based on that mean,we need to rank the categories.\n",
    "\n",
    "5)Mean Encoding -- > Finding mean of outputs with respect to each category in a feature,based on that mean,replace the feature value with mean. ex: Pincode , we need to convert the feature into integer or float ."
   ]
  },
  {
   "cell_type": "markdown",
   "metadata": {},
   "source": [
    "FEATURE SCALING\n",
    "\n",
    "When to apply Feature Scaling\n",
    "\n",
    "1)While using gradient decent -- Linear regression,ANN\n",
    "\n",
    "2)While using euclidean distance --Kmeans,KNN.\n",
    "\n",
    "When no need to apply Feature Scaling\n",
    "\n",
    "1)Decision Tree\n",
    "\n",
    "2)Random Forest\n",
    "\n",
    "3)XgBoost"
   ]
  },
  {
   "cell_type": "markdown",
   "metadata": {},
   "source": [
    "HANDLE MISSING VALUES IN CATEGORICAL VARIABLE\n",
    "\n",
    "1)Delete the complete row (there are lot of disadvantages when the number of dataset is not in millions)\n",
    "\n",
    "2)Replace with most frequent values (this may lead to imbalance dataset within categories not with respect to output variable)\n",
    "\n",
    "3)Create classifier algorithm to predict (efficient way)\n",
    "\n",
    "4)Apply clustering/unsupervised ML (efficient way)"
   ]
  },
  {
   "cell_type": "markdown",
   "metadata": {},
   "source": []
  }
 ],
 "metadata": {
  "language_info": {
   "name": "python"
  },
  "orig_nbformat": 4
 },
 "nbformat": 4,
 "nbformat_minor": 2
}
